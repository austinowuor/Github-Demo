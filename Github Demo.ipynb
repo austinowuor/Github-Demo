{
 "cells": [
  {
   "cell_type": "code",
   "execution_count": 2,
   "metadata": {},
   "outputs": [
    {
     "name": "stdout",
     "output_type": "stream",
     "text": [
      "👋 Welcome to GitHub!\n",
      "🕒 Current date and time: 2025-04-08 11:44:22\n",
      "📁 Current working directory: c:\\Users\\Owner\\AppData\\Local\\Programs\\Microsoft VS Code\n",
      "💡 Tip of the day: Version control is under control.\n"
     ]
    }
   ],
   "source": [
    "# demo github push\n",
    "# -*- coding: utf-8 -*-\n",
    "\"\"\"\n",
    "Created on Thu Oct 12 16:23:45 2023\n",
    "\"\"\"\n",
    "\n",
    "# Simple program that says welcome to GitHub,\n",
    "# prints the current date and time,\n",
    "# and the current working directory\n",
    "\n",
    "import datetime\n",
    "import os\n",
    "import sys\n",
    "import time\n",
    "import random\n",
    "import math\n",
    "import string\n",
    "import json\n",
    "import urllib.parse\n",
    "\n",
    "def main():\n",
    "    print(\"👋 Welcome to GitHub!\")\n",
    "\n",
    "    # Get and print current date and time\n",
    "    now = datetime.datetime.now()\n",
    "    print(\"🕒 Current date and time:\", now.strftime(\"%Y-%m-%d %H:%M:%S\"))\n",
    "\n",
    "    # Get and print current working directory\n",
    "    cwd = os.getcwd()\n",
    "    print(\"📁 Current working directory:\", cwd)\n",
    "\n",
    "    # Just for fun: print a random motivational message\n",
    "    messages = [\n",
    "        \"Keep pushing those commits!\",\n",
    "        \"Code. Commit. Push. Repeat.\",\n",
    "        \"You're doing great!\",\n",
    "        \"Git it done! 😎\",\n",
    "        \"Version control is under control.\"\n",
    "    ]\n",
    "    print(\"💡 Tip of the day:\", random.choice(messages))\n",
    "\n",
    "if __name__ == \"__main__\":\n",
    "    main()\n",
    "\n",
    "\n",
    "\n"
   ]
  }
 ],
 "metadata": {
  "kernelspec": {
   "display_name": "Python 3",
   "language": "python",
   "name": "python3"
  },
  "language_info": {
   "codemirror_mode": {
    "name": "ipython",
    "version": 3
   },
   "file_extension": ".py",
   "mimetype": "text/x-python",
   "name": "python",
   "nbconvert_exporter": "python",
   "pygments_lexer": "ipython3",
   "version": "3.13.2"
  }
 },
 "nbformat": 4,
 "nbformat_minor": 2
}
